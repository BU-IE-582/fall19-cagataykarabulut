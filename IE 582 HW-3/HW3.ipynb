{
 "cells": [
  {
   "cell_type": "code",
   "execution_count": 133,
   "metadata": {},
   "outputs": [],
   "source": [
    "import numpy as np \n",
    "import pandas as pd\n",
    "from datetime import datetime\n",
    "from sklearn.linear_model import LinearRegression, Lasso, LassoCV\n",
    "from matplotlib import pyplot as plt\n",
    "%matplotlib inline"
   ]
  },
  {
   "cell_type": "code",
   "execution_count": 57,
   "metadata": {},
   "outputs": [],
   "source": [
    "tuketim_df = pd.read_csv(r\"C:\\Users\\cagatay.karabulut\\Downloads\\GercekZamanliTuketim-01012016-22112019.csv\")"
   ]
  },
  {
   "cell_type": "markdown",
   "metadata": {},
   "source": [
    "Train_df is before 01.01.2016 - 31.10.2019 \n",
    "Test_df is 01.11.2019 - 07.11.2019"
   ]
  },
  {
   "cell_type": "code",
   "execution_count": 68,
   "metadata": {},
   "outputs": [],
   "source": [
    "tuketim_df.set_index([\"Tarih\",\"Saat\"], inplace = True)\n",
    "tuketim_df[\"Tuketim Miktari (MWh)\"] = [float(i.replace(\".\",\"\").replace(\",\",\".\")) for i in tuketim_df[\"Tuketim Miktari (MWh)\"]]"
   ]
  },
  {
   "cell_type": "code",
   "execution_count": 71,
   "metadata": {},
   "outputs": [],
   "source": [
    "train_df = tuketim_df[:33576]\n",
    "test_df = tuketim_df[33576:33744]"
   ]
  },
  {
   "cell_type": "code",
   "execution_count": 69,
   "metadata": {},
   "outputs": [
    {
     "data": {
      "text/html": [
       "<div>\n",
       "<style scoped>\n",
       "    .dataframe tbody tr th:only-of-type {\n",
       "        vertical-align: middle;\n",
       "    }\n",
       "\n",
       "    .dataframe tbody tr th {\n",
       "        vertical-align: top;\n",
       "    }\n",
       "\n",
       "    .dataframe thead th {\n",
       "        text-align: right;\n",
       "    }\n",
       "</style>\n",
       "<table border=\"1\" class=\"dataframe\">\n",
       "  <thead>\n",
       "    <tr style=\"text-align: right;\">\n",
       "      <th></th>\n",
       "      <th></th>\n",
       "      <th>Tuketim Miktari (MWh)</th>\n",
       "    </tr>\n",
       "    <tr>\n",
       "      <th>Tarih</th>\n",
       "      <th>Saat</th>\n",
       "      <th></th>\n",
       "    </tr>\n",
       "  </thead>\n",
       "  <tbody>\n",
       "    <tr>\n",
       "      <th rowspan=\"5\" valign=\"top\">01.01.2016</th>\n",
       "      <th>00:00</th>\n",
       "      <td>26277.24</td>\n",
       "    </tr>\n",
       "    <tr>\n",
       "      <th>01:00</th>\n",
       "      <td>24991.82</td>\n",
       "    </tr>\n",
       "    <tr>\n",
       "      <th>02:00</th>\n",
       "      <td>23532.61</td>\n",
       "    </tr>\n",
       "    <tr>\n",
       "      <th>03:00</th>\n",
       "      <td>22464.78</td>\n",
       "    </tr>\n",
       "    <tr>\n",
       "      <th>04:00</th>\n",
       "      <td>22002.91</td>\n",
       "    </tr>\n",
       "  </tbody>\n",
       "</table>\n",
       "</div>"
      ],
      "text/plain": [
       "                  Tuketim Miktari (MWh)\n",
       "Tarih      Saat                        \n",
       "01.01.2016 00:00               26277.24\n",
       "           01:00               24991.82\n",
       "           02:00               23532.61\n",
       "           03:00               22464.78\n",
       "           04:00               22002.91"
      ]
     },
     "execution_count": 69,
     "metadata": {},
     "output_type": "execute_result"
    }
   ],
   "source": [
    "tuketim_df.head()"
   ]
  },
  {
   "cell_type": "markdown",
   "metadata": {},
   "source": [
    "# Part A"
   ]
  },
  {
   "cell_type": "code",
   "execution_count": 73,
   "metadata": {},
   "outputs": [],
   "source": [
    "prediction_df = pd.DataFrame()\n",
    "prediction_df[\"Consumption\"] = test_df[\"Tuketim Miktari (MWh)\"]\n",
    "prediction_df[\"Lag_168\"]     = list(train_df[\"Tuketim Miktari (MWh)\"][-168:])\n",
    "prediction_df[\"Lag_48\"]      = list(train_df[\"Tuketim Miktari (MWh)\"][-48:]) +list(test_df[\"Tuketim Miktari (MWh)\"][:120])"
   ]
  },
  {
   "cell_type": "code",
   "execution_count": 76,
   "metadata": {},
   "outputs": [
    {
     "name": "stdout",
     "output_type": "stream",
     "text": [
      "MAPE value for Lag_168 is 0.04916488203126904\n",
      "MAPE value for Lag_48 is 0.08017726468896307\n"
     ]
    }
   ],
   "source": [
    "sum_percentage_error_168 = []\n",
    "sum_percentage_error_48  = []\n",
    "for index, row in prediction_df.iterrows():\n",
    "    sum_percentage_error_168.append(abs((row[\"Consumption\"] - row[\"Lag_168\"]) / row[\"Consumption\"]))\n",
    "    sum_percentage_error_48.append(abs((row[\"Consumption\"] - row[\"Lag_48\"]) / row[\"Consumption\"]))\n",
    "mape_168 = sum(sum_percentage_error_168) / 168\n",
    "mape_48 = sum(sum_percentage_error_48) / 168\n",
    "print(\"MAPE value for Lag_168 is {}\".format(mape_168))\n",
    "print(\"MAPE value for Lag_48 is {}\".format(mape_48))"
   ]
  },
  {
   "cell_type": "markdown",
   "metadata": {},
   "source": [
    "# Part B"
   ]
  },
  {
   "cell_type": "code",
   "execution_count": 80,
   "metadata": {},
   "outputs": [],
   "source": [
    "prediction_df_2 = pd.DataFrame()\n",
    "prediction_df_2[\"Consumption\"] = train_df[\"Tuketim Miktari (MWh)\"][168:].append(test_df[\"Tuketim Miktari (MWh)\"]) \n",
    "prediction_df_2[\"Lag_168\"]     = list(train_df[\"Tuketim Miktari (MWh)\"])\n",
    "prediction_df_2[\"Lag_48\"]      = list(train_df[\"Tuketim Miktari (MWh)\"][120:]) +list(test_df[\"Tuketim Miktari (MWh)\"][:120])"
   ]
  },
  {
   "cell_type": "code",
   "execution_count": 91,
   "metadata": {},
   "outputs": [],
   "source": [
    "lr = LinearRegression()\n",
    "lr = lr.fit(X = prediction_df_2[[\"Lag_168\",\"Lag_48\"]][:-168], y = prediction_df_2[\"Consumption\"][:-168])\n",
    "prediction = lr.predict(X = prediction_df_2[[\"Lag_168\",\"Lag_48\"]][-168:])\n",
    "test_2 = prediction_df_2[\"Consumption\"][-168:]"
   ]
  },
  {
   "cell_type": "code",
   "execution_count": 93,
   "metadata": {},
   "outputs": [
    {
     "name": "stdout",
     "output_type": "stream",
     "text": [
      "MAPE value for linear regression model with lag 168 and 48 is 0.0519227076011569\n"
     ]
    }
   ],
   "source": [
    "sum_percentage_error = 0\n",
    "for i in range(168):\n",
    "    sum_percentage_error += abs((prediction[i] - test_2[i]) / test_2[i])\n",
    "mape = sum_percentage_error / 168\n",
    "print(\"MAPE value for linear regression model with lag 168 and 48 is {}\".format(mape))"
   ]
  },
  {
   "cell_type": "markdown",
   "metadata": {},
   "source": [
    "# Part C"
   ]
  },
  {
   "cell_type": "code",
   "execution_count": 112,
   "metadata": {},
   "outputs": [
    {
     "name": "stdout",
     "output_type": "stream",
     "text": [
      "MAPE value for linear regression model with lag 168 and 48 for hour 0.00 is 0.03659787463398403\n",
      "MAPE value for linear regression model with lag 168 and 48 for hour 1.00 is 0.03774788227154174\n",
      "MAPE value for linear regression model with lag 168 and 48 for hour 2.00 is 0.04084911863638306\n",
      "MAPE value for linear regression model with lag 168 and 48 for hour 3.00 is 0.04116815579078393\n",
      "MAPE value for linear regression model with lag 168 and 48 for hour 4.00 is 0.038119395966837076\n",
      "MAPE value for linear regression model with lag 168 and 48 for hour 5.00 is 0.039860450398356014\n",
      "MAPE value for linear regression model with lag 168 and 48 for hour 6.00 is 0.04975175345761416\n",
      "MAPE value for linear regression model with lag 168 and 48 for hour 7.00 is 0.060917921078519864\n",
      "MAPE value for linear regression model with lag 168 and 48 for hour 8.00 is 0.06763516731737793\n",
      "MAPE value for linear regression model with lag 168 and 48 for hour 9.00 is 0.06395710732578268\n",
      "MAPE value for linear regression model with lag 168 and 48 for hour 10.00 is 0.06319896579838843\n",
      "MAPE value for linear regression model with lag 168 and 48 for hour 11.00 is 0.06546396357251033\n",
      "MAPE value for linear regression model with lag 168 and 48 for hour 12.00 is 0.06855472684178016\n",
      "MAPE value for linear regression model with lag 168 and 48 for hour 13.00 is 0.07325150486263503\n",
      "MAPE value for linear regression model with lag 168 and 48 for hour 14.00 is 0.0809441720606892\n",
      "MAPE value for linear regression model with lag 168 and 48 for hour 15.00 is 0.07782622366829774\n",
      "MAPE value for linear regression model with lag 168 and 48 for hour 16.00 is 0.06961726081337682\n",
      "MAPE value for linear regression model with lag 168 and 48 for hour 17.00 is 0.056693994284113855\n",
      "MAPE value for linear regression model with lag 168 and 48 for hour 18.00 is 0.044320393338633406\n",
      "MAPE value for linear regression model with lag 168 and 48 for hour 19.00 is 0.03424631522547102\n",
      "MAPE value for linear regression model with lag 168 and 48 for hour 20.00 is 0.031702590501576124\n",
      "MAPE value for linear regression model with lag 168 and 48 for hour 21.00 is 0.03053392720585805\n",
      "MAPE value for linear regression model with lag 168 and 48 for hour 22.00 is 0.032458840439375\n",
      "MAPE value for linear regression model with lag 168 and 48 for hour 23.00 is 0.03418864540480758\n"
     ]
    }
   ],
   "source": [
    "mape_values = []\n",
    "for i in range(24):\n",
    "    lr = LinearRegression()\n",
    "    lr_hourly = lr.fit(X = prediction_df_2[[\"Lag_168\",\"Lag_48\"]].iloc[i:-168:24], \n",
    "                                   y = prediction_df_2[\"Consumption\"].iloc[i:-168:24])\n",
    "    prediction_hourly = lr.predict(X = prediction_df_2[[\"Lag_168\",\"Lag_48\"]].iloc[-168+i::24])\n",
    "    test_hourly = prediction_df_2[\"Consumption\"].iloc[-168+i::24]\n",
    "    sum_percentage_error = 0\n",
    "    for j in range(7):\n",
    "        sum_percentage_error += abs((prediction_hourly[j] - test_hourly[j]) / test_hourly[j])\n",
    "    mape = sum_percentage_error / 7\n",
    "    mape_values.append(mape)\n",
    "    print(\"MAPE value for linear regression model with lag 168 and 48 for hour {}.00 is {}\".format(i,mape))"
   ]
  },
  {
   "cell_type": "code",
   "execution_count": 116,
   "metadata": {},
   "outputs": [
    {
     "data": {
      "image/png": "[encoded data removed]",
      "text/plain": [
       "<Figure size 432x288 with 1 Axes>"
      ]
     },
     "metadata": {},
     "output_type": "display_data"
    }
   ],
   "source": [
    "p = plt.bar(np.arange(24), mape_values)\n",
    "plt.show()"
   ]
  },
  {
   "cell_type": "markdown",
   "metadata": {},
   "source": [
    "# Part D"
   ]
  },
  {
   "cell_type": "code",
   "execution_count": 127,
   "metadata": {},
   "outputs": [],
   "source": [
    "list_to_df = []\n",
    "for date, date_df in prediction_df_2.groupby(\"Tarih\"):\n",
    "    feature_list = []\n",
    "    for index, row in date_df.iterrows():\n",
    "        feature_list.append(row[\"Lag_168\"])\n",
    "    for index, row in date_df.iterrows():\n",
    "        feature_list.append(row[\"Lag_48\"])\n",
    "    for index, row in date_df.iterrows():\n",
    "        feature_list.append(row[\"Consumption\"])\n",
    "    list_to_df.append(feature_list)"
   ]
  },
  {
   "cell_type": "code",
   "execution_count": 129,
   "metadata": {},
   "outputs": [],
   "source": [
    "wide_prediction_df = pd.DataFrame(list_to_df, columns = ['Lag_7_Day_Hour_{}'.format(i) for i in range(24)] + \n",
    "                                                        ['Lag_2_Day_Hour_{}'.format(i) for i in range(24)] +\n",
    "                                                        ['Consumption_Hour_{}'.format(i) for i in range(24)] )"
   ]
  },
  {
   "cell_type": "code",
   "execution_count": null,
   "metadata": {},
   "outputs": [],
   "source": [
    "mape_values_lasso = []\n",
    "lasso_coefs = []\n",
    "for i in range(24):\n",
    "    lasso_cv_model = LassoCV(cv=10, max_iter = 5000)\n",
    "    lasso_cv_model = lasso_cv_model.fit(X = wide_prediction_df.loc[:,\"Lag_7_Day_Hour_0\":\"Lag_2_Day_Hour_23\"], \n",
    "                                   y = wide_prediction_df.loc[:,\"Consumption_Hour_{}\".format(i)])\n",
    "    #Alpha is calculated by the LassoCV function\n",
    "    lasso_model = Lasso(alpha=lasso_cv_model.alpha_)\n",
    "    lasso_model = lasso_model.fit(X = wide_prediction_df.loc[:1392,\"Lag_7_Day_Hour_0\":\"Lag_2_Day_Hour_23\"], \n",
    "                                  y = wide_prediction_df.loc[:1392,\"Consumption_Hour_{}\".format(i)])\n",
    "    predictions = lasso_model.predict(X = wide_prediction_df.loc[1392:,\"Lag_7_Day_Hour_0\":\"Lag_2_Day_Hour_23\"])\n",
    "    actual = list(wide_prediction_df.loc[1392:,\"Consumption_Hour_{}\".format(i)])\n",
    "    sum_percentage_error = 0\n",
    "    for j in range(7):\n",
    "        sum_percentage_error += abs((predictions[j] - actual[j]) / actual[j])\n",
    "    mape = sum_percentage_error / 7\n",
    "    mape_values_lasso.append(mape)\n",
    "    lasso_coefs.append(lasso_model.coef_)"
   ]
  },
  {
   "cell_type": "code",
   "execution_count": 173,
   "metadata": {},
   "outputs": [
    {
     "name": "stdout",
     "output_type": "stream",
     "text": [
      "MAPE value for Lasso model for hour 0.00 is 0.027842005729091363\n",
      "MAPE value for Lasso model for hour 1.00 is 0.031439828589648534\n",
      "MAPE value for Lasso model for hour 2.00 is 0.03324433063307667\n",
      "MAPE value for Lasso model for hour 3.00 is 0.03114321540543765\n",
      "MAPE value for Lasso model for hour 4.00 is 0.03473149429331673\n",
      "MAPE value for Lasso model for hour 5.00 is 0.03579191196308364\n",
      "MAPE value for Lasso model for hour 6.00 is 0.04173220668585941\n",
      "MAPE value for Lasso model for hour 7.00 is 0.04763229598211084\n",
      "MAPE value for Lasso model for hour 8.00 is 0.05701293546277072\n",
      "MAPE value for Lasso model for hour 9.00 is 0.058412969592203816\n",
      "MAPE value for Lasso model for hour 10.00 is 0.05608811735885071\n",
      "MAPE value for Lasso model for hour 11.00 is 0.05476089432840118\n",
      "MAPE value for Lasso model for hour 12.00 is 0.05268468186666435\n",
      "MAPE value for Lasso model for hour 13.00 is 0.056613164243809536\n",
      "MAPE value for Lasso model for hour 14.00 is 0.06440747690787632\n",
      "MAPE value for Lasso model for hour 15.00 is 0.06562047061856283\n",
      "MAPE value for Lasso model for hour 16.00 is 0.0649244119125915\n",
      "MAPE value for Lasso model for hour 17.00 is 0.051939102309588016\n",
      "MAPE value for Lasso model for hour 18.00 is 0.04467110135852331\n",
      "MAPE value for Lasso model for hour 19.00 is 0.0479502789186892\n",
      "MAPE value for Lasso model for hour 20.00 is 0.06563004227451616\n",
      "MAPE value for Lasso model for hour 21.00 is 0.07574008937839159\n",
      "MAPE value for Lasso model for hour 22.00 is 0.07742897332411071\n",
      "MAPE value for Lasso model for hour 23.00 is 0.06926105463118133\n"
     ]
    }
   ],
   "source": [
    "for i in range(24):\n",
    "    print(\"MAPE value for Lasso model for hour {}.00 is {}\".format(i,mape_values_lasso[i]))"
   ]
  },
  {
   "cell_type": "code",
   "execution_count": 177,
   "metadata": {},
   "outputs": [],
   "source": [
    "coef_df = pd.DataFrame(lasso_coefs, columns = ['7_Day_{}_Hour'.format(i) for i in range(24)] + \n",
    "                                              ['2_Day_{}_Hour'.format(i) for i in range(24)])"
   ]
  },
  {
   "cell_type": "code",
   "execution_count": 197,
   "metadata": {},
   "outputs": [
    {
     "name": "stdout",
     "output_type": "stream",
     "text": [
      "['Lag_7_Day_Hour_23' 'Lag_2_Day_Hour_6' 'Lag_2_Day_Hour_5'\n",
      " 'Lag_2_Day_Hour_3' 'Lag_2_Day_Hour_2' 'Lag_2_Day_Hour_15'\n",
      " 'Lag_7_Day_Hour_21' 'Lag_2_Day_Hour_17' 'Lag_7_Day_Hour_17'\n",
      " 'Lag_2_Day_Hour_12' 'Lag_7_Day_Hour_15' 'Lag_2_Day_Hour_19'\n",
      " 'Lag_7_Day_Hour_13' 'Lag_7_Day_Hour_16' 'Lag_7_Day_Hour_11'\n",
      " 'Lag_7_Day_Hour_1' 'Lag_7_Day_Hour_2' 'Lag_7_Day_Hour_3'\n",
      " 'Lag_7_Day_Hour_4' 'Lag_7_Day_Hour_5' 'Lag_7_Day_Hour_12'\n",
      " 'Lag_2_Day_Hour_8' 'Lag_7_Day_Hour_8' 'Lag_7_Day_Hour_9'\n",
      " 'Lag_7_Day_Hour_10' 'Lag_2_Day_Hour_21' 'Lag_2_Day_Hour_18'\n",
      " 'Lag_2_Day_Hour_20' 'Lag_2_Day_Hour_4' 'Lag_2_Day_Hour_16'\n",
      " 'Lag_7_Day_Hour_18' 'Lag_2_Day_Hour_14' 'Lag_7_Day_Hour_22'\n",
      " 'Lag_7_Day_Hour_0' 'Lag_2_Day_Hour_1' 'Lag_2_Day_Hour_11'\n",
      " 'Lag_7_Day_Hour_14' 'Lag_7_Day_Hour_7' 'Lag_7_Day_Hour_6'\n",
      " 'Lag_2_Day_Hour_0' 'Lag_7_Day_Hour_20' 'Lag_2_Day_Hour_10'\n",
      " 'Lag_7_Day_Hour_19' 'Lag_2_Day_Hour_22' 'Lag_2_Day_Hour_13'\n",
      " 'Lag_2_Day_Hour_7' 'Lag_2_Day_Hour_9' 'Lag_2_Day_Hour_23']\n"
     ]
    }
   ],
   "source": [
    "print(wide_prediction_df.columns[np.argsort([abs(i) for i in lasso_coefs])][0])"
   ]
  },
  {
   "cell_type": "code",
   "execution_count": 228,
   "metadata": {},
   "outputs": [
    {
     "name": "stdout",
     "output_type": "stream",
     "text": [
      "Important_coefficients for Hour 0:2_Day_23_Hour\n",
      "Important_coefficients for Hour 0:2_Day_9_Hour\n",
      "Important_coefficients for Hour 0:2_Day_7_Hour\n",
      "Important_coefficients for Hour 1:2_Day_23_Hour\n",
      "Important_coefficients for Hour 1:2_Day_9_Hour\n",
      "Important_coefficients for Hour 1:2_Day_0_Hour\n",
      "Important_coefficients for Hour 2:2_Day_23_Hour\n",
      "Important_coefficients for Hour 2:2_Day_0_Hour\n",
      "Important_coefficients for Hour 2:2_Day_9_Hour\n",
      "Important_coefficients for Hour 3:2_Day_23_Hour\n",
      "Important_coefficients for Hour 3:2_Day_0_Hour\n",
      "Important_coefficients for Hour 3:2_Day_4_Hour\n",
      "Important_coefficients for Hour 4:2_Day_23_Hour\n",
      "Important_coefficients for Hour 4:2_Day_4_Hour\n",
      "Important_coefficients for Hour 4:2_Day_0_Hour\n",
      "Important_coefficients for Hour 5:2_Day_23_Hour\n",
      "Important_coefficients for Hour 5:2_Day_5_Hour\n",
      "Important_coefficients for Hour 5:2_Day_13_Hour\n",
      "Important_coefficients for Hour 6:2_Day_23_Hour\n",
      "Important_coefficients for Hour 6:2_Day_13_Hour\n",
      "Important_coefficients for Hour 6:2_Day_9_Hour\n",
      "Important_coefficients for Hour 7:7_Day_7_Hour\n",
      "Important_coefficients for Hour 7:2_Day_13_Hour\n",
      "Important_coefficients for Hour 7:2_Day_23_Hour\n",
      "Important_coefficients for Hour 8:2_Day_13_Hour\n",
      "Important_coefficients for Hour 8:2_Day_23_Hour\n",
      "Important_coefficients for Hour 8:7_Day_5_Hour\n",
      "Important_coefficients for Hour 9:2_Day_13_Hour\n",
      "Important_coefficients for Hour 9:2_Day_23_Hour\n",
      "Important_coefficients for Hour 9:2_Day_14_Hour\n",
      "Important_coefficients for Hour 10:2_Day_13_Hour\n",
      "Important_coefficients for Hour 10:2_Day_23_Hour\n",
      "Important_coefficients for Hour 10:2_Day_9_Hour\n",
      "Important_coefficients for Hour 11:2_Day_13_Hour\n",
      "Important_coefficients for Hour 11:2_Day_9_Hour\n",
      "Important_coefficients for Hour 11:2_Day_23_Hour\n",
      "Important_coefficients for Hour 12:2_Day_13_Hour\n",
      "Important_coefficients for Hour 12:2_Day_23_Hour\n",
      "Important_coefficients for Hour 12:2_Day_9_Hour\n",
      "Important_coefficients for Hour 13:2_Day_13_Hour\n",
      "Important_coefficients for Hour 13:2_Day_23_Hour\n",
      "Important_coefficients for Hour 13:2_Day_9_Hour\n",
      "Important_coefficients for Hour 14:2_Day_13_Hour\n",
      "Important_coefficients for Hour 14:2_Day_23_Hour\n",
      "Important_coefficients for Hour 14:2_Day_9_Hour\n",
      "Important_coefficients for Hour 15:2_Day_13_Hour\n",
      "Important_coefficients for Hour 15:2_Day_23_Hour\n",
      "Important_coefficients for Hour 15:2_Day_9_Hour\n",
      "Important_coefficients for Hour 16:2_Day_13_Hour\n",
      "Important_coefficients for Hour 16:7_Day_5_Hour\n",
      "Important_coefficients for Hour 16:2_Day_23_Hour\n",
      "Important_coefficients for Hour 17:2_Day_13_Hour\n",
      "Important_coefficients for Hour 17:7_Day_5_Hour\n",
      "Important_coefficients for Hour 17:2_Day_23_Hour\n",
      "Important_coefficients for Hour 18:2_Day_13_Hour\n",
      "Important_coefficients for Hour 18:2_Day_23_Hour\n",
      "Important_coefficients for Hour 18:2_Day_9_Hour\n",
      "Important_coefficients for Hour 19:2_Day_13_Hour\n",
      "Important_coefficients for Hour 19:2_Day_23_Hour\n",
      "Important_coefficients for Hour 19:7_Day_5_Hour\n",
      "Important_coefficients for Hour 20:2_Day_13_Hour\n",
      "Important_coefficients for Hour 20:2_Day_23_Hour\n",
      "Important_coefficients for Hour 20:2_Day_9_Hour\n",
      "Important_coefficients for Hour 21:2_Day_23_Hour\n",
      "Important_coefficients for Hour 21:2_Day_13_Hour\n",
      "Important_coefficients for Hour 21:7_Day_5_Hour\n",
      "Important_coefficients for Hour 22:2_Day_23_Hour\n",
      "Important_coefficients for Hour 22:2_Day_13_Hour\n",
      "Important_coefficients for Hour 22:2_Day_9_Hour\n",
      "Important_coefficients for Hour 23:2_Day_23_Hour\n",
      "Important_coefficients for Hour 23:2_Day_13_Hour\n",
      "Important_coefficients for Hour 23:7_Day_5_Hour\n"
     ]
    }
   ],
   "source": [
    "for i in range(24):\n",
    "    sorted_index = np.argsort((-np.array([abs(i) for i in coef_df.iloc[i]])))\n",
    "    print('Important_coefficients for Hour {}:{}'.format(i, coef_df.columns[sorted_index[0]]))\n",
    "    print('Important_coefficients for Hour {}:{}'.format(i, coef_df.columns[sorted_index[1]]))\n",
    "    print('Important_coefficients for Hour {}:{}'.format(i, coef_df.columns[sorted_index[2]]))"
   ]
  },
  {
   "cell_type": "markdown",
   "metadata": {},
   "source": [
    "The coefficients shown above imply that feature importance in this context may be because of weekday-weekend difference and \n",
    "hourly differences between these two. Generally speaking; Lag 2 Hour 23 and Hour 13 is generally important in predictions."
   ]
  },
  {
   "cell_type": "markdown",
   "metadata": {},
   "source": [
    "# Part F"
   ]
  },
  {
   "cell_type": "code",
   "execution_count": 247,
   "metadata": {},
   "outputs": [
    {
     "data": {
      "text/plain": [
       "{'whiskers': [<matplotlib.lines.Line2D at 0x1d21455df60>,\n",
       "  <matplotlib.lines.Line2D at 0x1d21455d4e0>,\n",
       "  <matplotlib.lines.Line2D at 0x1d217a3b2b0>,\n",
       "  <matplotlib.lines.Line2D at 0x1d217a3bac8>,\n",
       "  <matplotlib.lines.Line2D at 0x1d217a446a0>,\n",
       "  <matplotlib.lines.Line2D at 0x1d21437c940>,\n",
       "  <matplotlib.lines.Line2D at 0x1d215c120b8>,\n",
       "  <matplotlib.lines.Line2D at 0x1d215c12978>],\n",
       " 'caps': [<matplotlib.lines.Line2D at 0x1d217a41630>,\n",
       "  <matplotlib.lines.Line2D at 0x1d217a41278>,\n",
       "  <matplotlib.lines.Line2D at 0x1d217a3b6d8>,\n",
       "  <matplotlib.lines.Line2D at 0x1d2145d50b8>,\n",
       "  <matplotlib.lines.Line2D at 0x1d21437cf60>,\n",
       "  <matplotlib.lines.Line2D at 0x1d21437cfd0>,\n",
       "  <matplotlib.lines.Line2D at 0x1d21454fc88>,\n",
       "  <matplotlib.lines.Line2D at 0x1d213832240>],\n",
       " 'boxes': [<matplotlib.lines.Line2D at 0x1d21455deb8>,\n",
       "  <matplotlib.lines.Line2D at 0x1d217a3b6a0>,\n",
       "  <matplotlib.lines.Line2D at 0x1d217a442b0>,\n",
       "  <matplotlib.lines.Line2D at 0x1d215c12588>],\n",
       " 'medians': [<matplotlib.lines.Line2D at 0x1d217a41e48>,\n",
       "  <matplotlib.lines.Line2D at 0x1d217a447b8>,\n",
       "  <matplotlib.lines.Line2D at 0x1d2144e4278>,\n",
       "  <matplotlib.lines.Line2D at 0x1d21382a780>],\n",
       " 'fliers': [<matplotlib.lines.Line2D at 0x1d2145ef748>,\n",
       "  <matplotlib.lines.Line2D at 0x1d217a440f0>,\n",
       "  <matplotlib.lines.Line2D at 0x1d2144917f0>,\n",
       "  <matplotlib.lines.Line2D at 0x1d21382a9b0>],\n",
       " 'means': []}"
      ]
     },
     "execution_count": 247,
     "metadata": {},
     "output_type": "execute_result"
    },
    {
     "data": {
      "image/png": "[encoded data removed]",
      "text/plain": [
       "<Figure size 432x288 with 1 Axes>"
      ]
     },
     "metadata": {},
     "output_type": "display_data"
    }
   ],
   "source": [
    "mapes = [sum_percentage_error_168, sum_percentage_error_48, mape_values, mape_values_lasso]\n",
    "plt.boxplot(mapes)"
   ]
  },
  {
   "cell_type": "markdown",
   "metadata": {},
   "source": [
    "As we can see in the boxplot (1:Naive 168, 2:Naive 48, 3:Linear Regression, 4:Lasso Regression) linear regression and lasso regression gives stable and fairly low errors whereas lag 48 fails probably because of the weekday-weekend problem we mentioned.\n",
    "Naive approach has better mean but is not stable due to probably seasonality between weeks. "
   ]
  }
 ],
 "metadata": {
  "kernelspec": {
   "display_name": "Python 3",
   "language": "python",
   "name": "python3"
  },
  "language_info": {
   "codemirror_mode": {
    "name": "ipython",
    "version": 3
   },
   "file_extension": ".py",
   "mimetype": "text/x-python",
   "name": "python",
   "nbconvert_exporter": "python",
   "pygments_lexer": "ipython3",
   "version": "3.6.5"
  }
 },
 "nbformat": 4,
 "nbformat_minor": 2
}
