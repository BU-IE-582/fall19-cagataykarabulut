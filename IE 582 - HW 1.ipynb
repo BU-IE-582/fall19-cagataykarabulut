{
 "cells": [
  {
   "cell_type": "code",
   "execution_count": 219,
   "metadata": {},
   "outputs": [],
   "source": [
    "import numpy as np\n",
    "import pandas as pd\n",
    "from matplotlib import pyplot as plt\n",
    "%matplotlib inline\n",
    "import math"
   ]
  },
  {
   "cell_type": "code",
   "execution_count": 238,
   "metadata": {},
   "outputs": [],
   "source": [
    "bets = pd.DataFrame(pd.read_csv(\"bets/bets.csv\"))\n",
    "booking = pd.DataFrame(pd.read_csv(\"booking/booking.csv\"))\n",
    "goals = pd.DataFrame(pd.read_csv(\"goals/goals.csv\"))\n",
    "matches = pd.DataFrame(pd.read_csv(\"matches/matches.csv\"))\n",
    "stats = pd.DataFrame(pd.read_csv(\"stats/stats.csv\"))"
   ]
  },
  {
   "cell_type": "code",
   "execution_count": 50,
   "metadata": {},
   "outputs": [],
   "source": [
    "home_mean_score = matches.match_hometeam_score.mean()\n",
    "away_mean_score = matches.match_awayteam_score.mean()\n",
    "score_difference_mean = home_mean_score - away_mean_score"
   ]
  },
  {
   "cell_type": "code",
   "execution_count": 49,
   "metadata": {},
   "outputs": [
    {
     "data": {
      "text/plain": [
       "(array([ 977., 1665., 1363.,  687.,  257.,   98.,   20.,    7.]),\n",
       " array([-0.5,  0.5,  1.5,  2.5,  3.5,  4.5,  5.5,  6.5,  7.5]),\n",
       " <a list of 8 Patch objects>)"
      ]
     },
     "execution_count": 49,
     "metadata": {},
     "output_type": "execute_result"
    },
    {
     "data": {
      "image/png": "[encoded data removed]",
      "text/plain": [
       "<Figure size 432x288 with 1 Axes>"
      ]
     },
     "metadata": {},
     "output_type": "display_data"
    }
   ],
   "source": [
    "plt.hist(matches.match_hometeam_score.dropna().astype('int'), bins = [i-0.5 for i in range(0,9)], fc = (1,0,0,0.5))\n",
    "plt.hist(np.random.poisson(home_mean_score, 5074), bins = [i-0.5 for i in range(0,9)], fc = (0,0,1,0.5))"
   ]
  },
  {
   "cell_type": "code",
   "execution_count": 48,
   "metadata": {
    "scrolled": true
   },
   "outputs": [
    {
     "data": {
      "text/plain": [
       "(array([1462., 1854., 1108.,  474.,  131.,   35.,    8.,    2.]),\n",
       " array([-0.5,  0.5,  1.5,  2.5,  3.5,  4.5,  5.5,  6.5,  7.5]),\n",
       " <a list of 8 Patch objects>)"
      ]
     },
     "execution_count": 48,
     "metadata": {},
     "output_type": "execute_result"
    },
    {
     "data": {
      "image/png": "[encoded data removed]",
      "text/plain": [
       "<Figure size 432x288 with 1 Axes>"
      ]
     },
     "metadata": {},
     "output_type": "display_data"
    }
   ],
   "source": [
    "pyplot.hist(matches.match_awayteam_score.dropna().astype('int'), bins = [i-0.5 for i in range(0,9)], fc = (1,0,0,0.5))\n",
    "plt.hist(np.random.poisson(away_mean_score, 5074), bins = [i-0.5 for i in range(0,9)], fc = (0,0,1,0.5))"
   ]
  },
  {
   "cell_type": "markdown",
   "metadata": {},
   "source": [
    "Both samples seem like they fit to poisson distribution with their means"
   ]
  },
  {
   "cell_type": "code",
   "execution_count": 169,
   "metadata": {},
   "outputs": [],
   "source": [
    "bets_chosen = bets[bets.odd_bookmakers.isin(['1xBet','18bet','Marathonbet','bet365'])]"
   ]
  },
  {
   "cell_type": "code",
   "execution_count": 170,
   "metadata": {},
   "outputs": [
    {
     "name": "stderr",
     "output_type": "stream",
     "text": [
      "C:\\Users\\cagatay.karabulut\\AppData\\Local\\Continuum\\anaconda3.1\\lib\\site-packages\\ipykernel_launcher.py:1: SettingWithCopyWarning: \n",
      "A value is trying to be set on a copy of a slice from a DataFrame.\n",
      "Try using .loc[row_indexer,col_indexer] = value instead\n",
      "\n",
      "See the caveats in the documentation: http://pandas.pydata.org/pandas-docs/stable/indexing.html#indexing-view-versus-copy\n",
      "  \"\"\"Entry point for launching an IPython kernel.\n"
     ]
    }
   ],
   "source": [
    "bets_chosen[\"prob\"] = 1 /bets_chosen.value\n",
    "bets_chosen = bets_chosen[bets_chosen.variable.isin(['odd_1','odd_x','odd_2'])]"
   ]
  },
  {
   "cell_type": "code",
   "execution_count": 177,
   "metadata": {},
   "outputs": [],
   "source": [
    "bet_sum_dict = {}\n",
    "for index, item in bets_chosen.iterrows():\n",
    "    if (item.match_id, item.odd_bookmakers) in bet_sum_dict.keys():\n",
    "        bet_sum_dict[(item.match_id, item.odd_bookmakers)] += item.prob\n",
    "    else:\n",
    "        bet_sum_dict[(item.match_id, item.odd_bookmakers)] = item.prob\n",
    "prob_list = []\n",
    "for index, item in bets_chosen.iterrows():\n",
    "    prob_list.append(item.prob / bet_sum_dict[(item.match_id, item.odd_bookmakers)])\n",
    "bets_chosen[\"new_prob\"] = prob_list    \n"
   ]
  },
  {
   "cell_type": "code",
   "execution_count": 236,
   "metadata": {},
   "outputs": [],
   "source": [
    "bets_chosen_draw = bets_chosen[bets_chosen.variable == 'odd_x'].sort_values(['match_id', 'odd_bookmakers'])\n",
    "bets_chosen_home = bets_chosen[bets_chosen.variable == 'odd_1']\n",
    "bets_chosen_away = bets_chosen[bets_chosen.variable == 'odd_2']\n",
    "join_homeaway = bets_chosen_home.set_index(['match_id','odd_bookmakers']).join(bets_chosen_away.set_index(['match_id','odd_bookmakers']), lsuffix = '_n')"
   ]
  },
  {
   "cell_type": "code",
   "execution_count": 191,
   "metadata": {},
   "outputs": [],
   "source": [
    "bets_chosen_difference = [i-j for i,j in zip(list(bets_chosen_home.sort_values(['match_id', 'odd_bookmakers']).new_prob) ,list(bets_chosen_away.sort_values(['match_id', 'odd_bookmakers']).new_prob))]"
   ]
  },
  {
   "cell_type": "code",
   "execution_count": 256,
   "metadata": {},
   "outputs": [],
   "source": [
    "join_homeaway_match = join_homeaway.join(matches.set_index('match_id')[['match_hometeam_score','match_awayteam_score']], on='match_id', how='left')"
   ]
  },
  {
   "cell_type": "code",
   "execution_count": 264,
   "metadata": {},
   "outputs": [],
   "source": [
    "join_homeaway_match['is_draw'] = list(join_homeaway_match.match_hometeam_score == join_homeaway_match.match_awayteam_score)"
   ]
  },
  {
   "cell_type": "code",
   "execution_count": 260,
   "metadata": {},
   "outputs": [],
   "source": [
    "join_homeaway_match['prob_diff'] = join_homeaway_match.new_prob_n - join_homeaway_match.new_prob"
   ]
  },
  {
   "cell_type": "code",
   "execution_count": 365,
   "metadata": {},
   "outputs": [],
   "source": [
    "join_18bet = join_homeaway_match[join_homeaway_match.index.get_level_values('odd_bookmakers') == '18bet']\n",
    "join_1xbet = join_homeaway_match[join_homeaway_match.index.get_level_values('odd_bookmakers') == '1xBet']\n",
    "join_Marathonbet = join_homeaway_match[join_homeaway_match.index.get_level_values('odd_bookmakers') == 'Marathonbet']\n",
    "join_bet365 = join_homeaway_match[join_homeaway_match.index.get_level_values('odd_bookmakers') == 'bet365']"
   ]
  },
  {
   "cell_type": "code",
   "execution_count": 373,
   "metadata": {},
   "outputs": [
    {
     "data": {
      "text/plain": [
       "Text(0.5,1,'18Bet')"
      ]
     },
     "execution_count": 373,
     "metadata": {},
     "output_type": "execute_result"
    },
    {
     "data": {
      "image/png": "[encoded data removed]",
      "text/plain": [
       "<Figure size 432x288 with 1 Axes>"
      ]
     },
     "metadata": {},
     "output_type": "display_data"
    }
   ],
   "source": [
    "hist_list = []\n",
    "for i in range(10):\n",
    "    in_the_bin_prob = join_18bet[(join_18bet['prob_diff'] > i*0.2-1) & (join_18bet['prob_diff'] < i*0.2-0.8)][\"prob_diff\"].count()\n",
    "    in_the_bin_real = join_18bet[(join_18bet['prob_diff'] > i*0.2-1) & (join_18bet['prob_diff'] < i*0.2-0.8) & (join_18bet['is_draw'] == True)][\"prob_diff\"].count()\n",
    "    hist_list.append((in_the_bin_prob, in_the_bin_real))\n",
    "probabilities = [(j/(i+1)) for (i,j) in hist_list]\n",
    "plt.scatter([(i/5-0.9) for i in range(10)], probabilities)\n",
    "plt.title('18Bet')"
   ]
  },
  {
   "cell_type": "code",
   "execution_count": 372,
   "metadata": {},
   "outputs": [
    {
     "data": {
      "text/plain": [
       "Text(0.5,1,'1XBet')"
      ]
     },
     "execution_count": 372,
     "metadata": {},
     "output_type": "execute_result"
    },
    {
     "data": {
      "image/png": "[encoded data removed]",
      "text/plain": [
       "<Figure size 432x288 with 1 Axes>"
      ]
     },
     "metadata": {},
     "output_type": "display_data"
    }
   ],
   "source": [
    "hist_list = []\n",
    "for i in range(10):\n",
    "    in_the_bin_prob = join_1xbet[(join_1xbet['prob_diff'] > i*0.2-1) & (join_1xbet['prob_diff'] < i*0.2-0.8)][\"prob_diff\"].count()\n",
    "    in_the_bin_real = join_1xbet[(join_1xbet['prob_diff'] > i*0.2-1) & (join_1xbet['prob_diff'] < i*0.2-0.8) & (join_1xbet['is_draw'] == True)][\"prob_diff\"].count()\n",
    "    hist_list.append((in_the_bin_prob, in_the_bin_real))\n",
    "probabilities = [(j/(i+1)) for (i,j) in hist_list]\n",
    "plt.scatter([(i/5-0.9) for i in range(10)], probabilities)\n",
    "plt.title('1XBet')"
   ]
  },
  {
   "cell_type": "code",
   "execution_count": 371,
   "metadata": {},
   "outputs": [
    {
     "data": {
      "text/plain": [
       "Text(0.5,1,'Marathonbet')"
      ]
     },
     "execution_count": 371,
     "metadata": {},
     "output_type": "execute_result"
    },
    {
     "data": {
      "image/png": "[encoded data removed]",
      "text/plain": [
       "<Figure size 432x288 with 1 Axes>"
      ]
     },
     "metadata": {},
     "output_type": "display_data"
    }
   ],
   "source": [
    "hist_list = []\n",
    "for i in range(10):\n",
    "    in_the_bin_prob = join_Marathonbet[(join_Marathonbet['prob_diff'] > i*0.2-1) & (join_Marathonbet['prob_diff'] < i*0.2-0.8)][\"prob_diff\"].count()\n",
    "    in_the_bin_real = join_Marathonbet[(join_Marathonbet['prob_diff'] > i*0.2-1) & (join_Marathonbet['prob_diff'] < i*0.2-0.8) & join_Marathonbet['is_draw'] == True][\"prob_diff\"].count()\n",
    "    hist_list.append((in_the_bin_prob, in_the_bin_real))\n",
    "probabilities = [j/(i+1) for (i,j) in hist_list]\n",
    "plt.scatter([(i/5-0.9) for i in range(10)], probabilities)\n",
    "plt.title('Marathonbet')"
   ]
  },
  {
   "cell_type": "code",
   "execution_count": 370,
   "metadata": {
    "scrolled": true
   },
   "outputs": [
    {
     "data": {
      "text/plain": [
       "Text(0.5,1,'Bet365')"
      ]
     },
     "execution_count": 370,
     "metadata": {},
     "output_type": "execute_result"
    },
    {
     "data": {
      "image/png": "[encoded data removed]",
      "text/plain": [
       "<Figure size 432x288 with 1 Axes>"
      ]
     },
     "metadata": {},
     "output_type": "display_data"
    }
   ],
   "source": [
    "hist_list = []\n",
    "for i in range(10):\n",
    "    in_the_bin_prob = join_bet365[(join_bet365['prob_diff'] > i*0.2-1) & (join_bet365['prob_diff'] < i*0.2-0.8)][\"prob_diff\"].count()\n",
    "    in_the_bin_real = join_bet365[(join_bet365['prob_diff'] > i*0.2-1) & (join_bet365['prob_diff'] < i*0.2-0.8) & join_bet365['is_draw'] == True][\"prob_diff\"].count()\n",
    "    hist_list.append((in_the_bin_prob, in_the_bin_real))\n",
    "probabilities = [j/(i+1) for (i,j) in hist_list]\n",
    "plt.scatter([(i/5-0.9) for i in range(10)], probabilities)\n",
    "plt.title('Bet365')"
   ]
  },
  {
   "cell_type": "markdown",
   "metadata": {},
   "source": [
    "Generally there is an 'M'-like shape with a larger slope on home winning anticipated side(bias).  "
   ]
  },
  {
   "cell_type": "code",
   "execution_count": 201,
   "metadata": {},
   "outputs": [
    {
     "data": {
      "text/plain": [
       "<matplotlib.collections.PathCollection at 0x1ccba58b7f0>"
      ]
     },
     "execution_count": 201,
     "metadata": {},
     "output_type": "execute_result"
    },
    {
     "data": {
      "image/png": "[encoded data removed]",
      "text/plain": [
       "<Figure size 432x288 with 1 Axes>"
      ]
     },
     "metadata": {},
     "output_type": "display_data"
    }
   ],
   "source": [
    "plt.scatter(bets_chosen_draw.new_prob, bets_chosen_difference)"
   ]
  },
  {
   "cell_type": "markdown",
   "metadata": {},
   "source": [
    "Draw Probability and Home - Away Probability (x,y)"
   ]
  }
 ],
 "metadata": {
  "kernelspec": {
   "display_name": "Python 3",
   "language": "python",
   "name": "python3"
  },
  "language_info": {
   "codemirror_mode": {
    "name": "ipython",
    "version": 3
   },
   "file_extension": ".py",
   "mimetype": "text/x-python",
   "name": "python",
   "nbconvert_exporter": "python",
   "pygments_lexer": "ipython3",
   "version": "3.6.5"
  }
 },
 "nbformat": 4,
 "nbformat_minor": 2
}
