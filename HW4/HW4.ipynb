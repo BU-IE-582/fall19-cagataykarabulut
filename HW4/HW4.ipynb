{
 "cells": [
  {
   "cell_type": "markdown",
   "metadata": {},
   "source": [
    "Group Homework Members: Çağatay Karabulut, Ayberk Akgün, Gülce Karabacak"
   ]
  },
  {
   "cell_type": "code",
   "execution_count": 110,
   "metadata": {},
   "outputs": [],
   "source": [
    "import numpy as np\n",
    "import pandas as pd\n",
    "import xgboost\n",
    "from sklearn.model_selection import KFold\n",
    "from sklearn.model_selection import GridSearchCV\n",
    "from sklearn.linear_model import LassoCV\n",
    "from sklearn.tree import DecisionTreeClassifier, DecisionTreeRegressor\n",
    "from sklearn.ensemble import RandomForestClassifier, RandomForestRegressor\n",
    "from sklearn.model_selection import train_test_split\n",
    "from sklearn.metrics import accuracy_score, mean_squared_error, r2_score"
   ]
  },
  {
   "cell_type": "markdown",
   "metadata": {},
   "source": [
    "In this task, we decided to use 9 features to predict and classify matches. For a single match we use average of goals scored and goals conceded of the last 5 home games and last 5 away games for both teams. The other feature is the average of the total goals for last 3 encounters of these teams. These features will be the indicator for both teams' offence and defence performance and the last feature will be the indicator for this encounter in particular. "
   ]
  },
  {
   "cell_type": "code",
   "execution_count": 3,
   "metadata": {},
   "outputs": [],
   "source": [
    "def avg_home_score(team_id, n_matches, for_epoch):\n",
    "    matches_grouped_home = matches[['match_hometeam_id','match_id','epoch','match_hometeam_score']].loc[(matches.epoch < for_epoch) & (matches.match_hometeam_id == team_id)]\n",
    "    return matches_grouped_home.nlargest(n_matches,'epoch').agg({'match_hometeam_score':'mean'})[0]\n",
    "\n",
    "def avg_away_score(team_id, n_matches, for_epoch):\n",
    "    matches_grouped_home = matches[['match_awayteam_id','match_id','epoch','match_awayteam_score']].loc[(matches.epoch < for_epoch) & (matches.match_awayteam_id == team_id)]\n",
    "    return matches_grouped_home.nlargest(n_matches,'epoch').agg({'match_awayteam_score':'mean'})[0]\n",
    "\n",
    "def avg_home_concede(team_id, n_matches, for_epoch):\n",
    "    matches_grouped_home = matches[['match_hometeam_id','match_id','epoch','match_awayteam_score']].loc[(matches.epoch < for_epoch) & (matches.match_hometeam_id == team_id)]\n",
    "    return matches_grouped_home.nlargest(n_matches,'epoch').agg({'match_awayteam_score':'mean'})[0]\n",
    "\n",
    "def avg_away_concede(team_id, n_matches, for_epoch):\n",
    "    matches_grouped_home = matches[['match_awayteam_id','match_id','epoch','match_hometeam_score']].loc[(matches.epoch < for_epoch) & (matches.match_awayteam_id == team_id)]\n",
    "    return matches_grouped_home.nlargest(n_matches,'epoch').agg({'match_hometeam_score':'mean'})[0]\n",
    "\n",
    "def last_game_score(home_id, away_id, n_matches, for_epoch):\n",
    "    matches_grouped = matches[['match_hometeam_id','match_awayteam_id','epoch','match_hometeam_score','match_awayteam_score']].loc[matches.epoch < for_epoch].loc[(((matches.match_awayteam_id == away_id) & (matches.match_hometeam_id == home_id)) | ((matches.match_hometeam_id == away_id) & (matches.match_awayteam_id == home_id)))]\n",
    "    return matches_grouped.nlargest(n_matches,'epoch').agg({'match_hometeam_score':'mean','match_awayteam_score':'mean'})"
   ]
  },
  {
   "cell_type": "markdown",
   "metadata": {},
   "source": [
    "Nowi I am reading csv files."
   ]
  },
  {
   "cell_type": "code",
   "execution_count": null,
   "metadata": {},
   "outputs": [],
   "source": [
    "bets = pd.read_csv(r\"C:\\Users\\cagatay\\Desktop\\IE_582_Final_Project\\bets.csv\")\n",
    "booking = pd.read_csv(r\"C:\\Users\\cagatay\\Desktop\\IE_582_Final_Project\\booking.csv\")\n",
    "goals = pd.read_csv(r\"C:\\Users\\cagatay\\Desktop\\IE_582_Final_Project\\goals.csv\")\n",
    "matches= pd.read_csv(r\"C:\\Users\\cagatay\\Desktop\\IE_582_Final_Project\\matches.csv\")\n",
    "stats = pd.read_csv(r\"C:\\Users\\cagatay\\Desktop\\IE_582_Final_Project\\stats.csv\")"
   ]
  },
  {
   "cell_type": "code",
   "execution_count": 5,
   "metadata": {},
   "outputs": [
    {
     "data": {
      "text/html": [
       "<div>\n",
       "<style scoped>\n",
       "    .dataframe tbody tr th:only-of-type {\n",
       "        vertical-align: middle;\n",
       "    }\n",
       "\n",
       "    .dataframe tbody tr th {\n",
       "        vertical-align: top;\n",
       "    }\n",
       "\n",
       "    .dataframe thead th {\n",
       "        text-align: right;\n",
       "    }\n",
       "</style>\n",
       "<table border=\"1\" class=\"dataframe\">\n",
       "  <thead>\n",
       "    <tr style=\"text-align: right;\">\n",
       "      <th></th>\n",
       "      <th>match_id</th>\n",
       "      <th>odd_bookmakers</th>\n",
       "      <th>odd_epoch</th>\n",
       "      <th>variable</th>\n",
       "      <th>value</th>\n",
       "    </tr>\n",
       "  </thead>\n",
       "  <tbody>\n",
       "    <tr>\n",
       "      <th>0</th>\n",
       "      <td>146845</td>\n",
       "      <td>BetOlimp</td>\n",
       "      <td>1486301854</td>\n",
       "      <td>odd_1</td>\n",
       "      <td>1.96</td>\n",
       "    </tr>\n",
       "    <tr>\n",
       "      <th>1</th>\n",
       "      <td>151780</td>\n",
       "      <td>10Bet</td>\n",
       "      <td>1486314920</td>\n",
       "      <td>odd_1</td>\n",
       "      <td>2.15</td>\n",
       "    </tr>\n",
       "    <tr>\n",
       "      <th>2</th>\n",
       "      <td>151780</td>\n",
       "      <td>18bet</td>\n",
       "      <td>1486314920</td>\n",
       "      <td>odd_1</td>\n",
       "      <td>2.17</td>\n",
       "    </tr>\n",
       "  </tbody>\n",
       "</table>\n",
       "</div>"
      ],
      "text/plain": [
       "   match_id odd_bookmakers   odd_epoch variable  value\n",
       "0    146845       BetOlimp  1486301854    odd_1   1.96\n",
       "1    151780          10Bet  1486314920    odd_1   2.15\n",
       "2    151780          18bet  1486314920    odd_1   2.17"
      ]
     },
     "execution_count": 5,
     "metadata": {},
     "output_type": "execute_result"
    }
   ],
   "source": [
    "bets.head(3)"
   ]
  },
  {
   "cell_type": "code",
   "execution_count": 6,
   "metadata": {},
   "outputs": [
    {
     "data": {
      "text/html": [
       "<div>\n",
       "<style scoped>\n",
       "    .dataframe tbody tr th:only-of-type {\n",
       "        vertical-align: middle;\n",
       "    }\n",
       "\n",
       "    .dataframe tbody tr th {\n",
       "        vertical-align: top;\n",
       "    }\n",
       "\n",
       "    .dataframe thead th {\n",
       "        text-align: right;\n",
       "    }\n",
       "</style>\n",
       "<table border=\"1\" class=\"dataframe\">\n",
       "  <thead>\n",
       "    <tr style=\"text-align: right;\">\n",
       "      <th></th>\n",
       "      <th>match_id</th>\n",
       "      <th>time</th>\n",
       "      <th>home_fault</th>\n",
       "      <th>card</th>\n",
       "      <th>away_fault</th>\n",
       "    </tr>\n",
       "  </thead>\n",
       "  <tbody>\n",
       "    <tr>\n",
       "      <th>0</th>\n",
       "      <td>13327</td>\n",
       "      <td>90+3</td>\n",
       "      <td>Can E.</td>\n",
       "      <td>yellow card</td>\n",
       "      <td>NaN</td>\n",
       "    </tr>\n",
       "    <tr>\n",
       "      <th>1</th>\n",
       "      <td>13329</td>\n",
       "      <td>29</td>\n",
       "      <td>Holebas J.</td>\n",
       "      <td>yellow card</td>\n",
       "      <td>NaN</td>\n",
       "    </tr>\n",
       "    <tr>\n",
       "      <th>2</th>\n",
       "      <td>13329</td>\n",
       "      <td>40</td>\n",
       "      <td>Doucoure A.</td>\n",
       "      <td>yellow card</td>\n",
       "      <td>NaN</td>\n",
       "    </tr>\n",
       "  </tbody>\n",
       "</table>\n",
       "</div>"
      ],
      "text/plain": [
       "   match_id  time    home_fault         card away_fault\n",
       "0     13327  90+3       Can E.   yellow card        NaN\n",
       "1     13329    29   Holebas J.   yellow card        NaN\n",
       "2     13329    40  Doucoure A.   yellow card        NaN"
      ]
     },
     "execution_count": 6,
     "metadata": {},
     "output_type": "execute_result"
    }
   ],
   "source": [
    "booking.head(3)"
   ]
  },
  {
   "cell_type": "code",
   "execution_count": 7,
   "metadata": {},
   "outputs": [
    {
     "data": {
      "text/html": [
       "<div>\n",
       "<style scoped>\n",
       "    .dataframe tbody tr th:only-of-type {\n",
       "        vertical-align: middle;\n",
       "    }\n",
       "\n",
       "    .dataframe tbody tr th {\n",
       "        vertical-align: top;\n",
       "    }\n",
       "\n",
       "    .dataframe thead th {\n",
       "        text-align: right;\n",
       "    }\n",
       "</style>\n",
       "<table border=\"1\" class=\"dataframe\">\n",
       "  <thead>\n",
       "    <tr style=\"text-align: right;\">\n",
       "      <th></th>\n",
       "      <th>match_id</th>\n",
       "      <th>time</th>\n",
       "      <th>home_scorer</th>\n",
       "      <th>score</th>\n",
       "      <th>away_scorer</th>\n",
       "    </tr>\n",
       "  </thead>\n",
       "  <tbody>\n",
       "    <tr>\n",
       "      <th>0</th>\n",
       "      <td>13327</td>\n",
       "      <td>30</td>\n",
       "      <td>Salah M.</td>\n",
       "      <td>1 - 1</td>\n",
       "      <td>NaN</td>\n",
       "    </tr>\n",
       "    <tr>\n",
       "      <th>1</th>\n",
       "      <td>13446</td>\n",
       "      <td>35</td>\n",
       "      <td>Colin M.</td>\n",
       "      <td>1 - 0</td>\n",
       "      <td>NaN</td>\n",
       "    </tr>\n",
       "    <tr>\n",
       "      <th>2</th>\n",
       "      <td>13446</td>\n",
       "      <td>56</td>\n",
       "      <td>NaN</td>\n",
       "      <td>1 - 1</td>\n",
       "      <td>Johnson D.</td>\n",
       "    </tr>\n",
       "  </tbody>\n",
       "</table>\n",
       "</div>"
      ],
      "text/plain": [
       "   match_id time home_scorer  score away_scorer\n",
       "0     13327   30    Salah M.  1 - 1         NaN\n",
       "1     13446   35    Colin M.  1 - 0         NaN\n",
       "2     13446   56         NaN  1 - 1  Johnson D."
      ]
     },
     "execution_count": 7,
     "metadata": {},
     "output_type": "execute_result"
    }
   ],
   "source": [
    "goals.head(3)"
   ]
  },
  {
   "cell_type": "code",
   "execution_count": 8,
   "metadata": {},
   "outputs": [
    {
     "data": {
      "text/html": [
       "<div>\n",
       "<style scoped>\n",
       "    .dataframe tbody tr th:only-of-type {\n",
       "        vertical-align: middle;\n",
       "    }\n",
       "\n",
       "    .dataframe tbody tr th {\n",
       "        vertical-align: top;\n",
       "    }\n",
       "\n",
       "    .dataframe thead th {\n",
       "        text-align: right;\n",
       "    }\n",
       "</style>\n",
       "<table border=\"1\" class=\"dataframe\">\n",
       "  <thead>\n",
       "    <tr style=\"text-align: right;\">\n",
       "      <th></th>\n",
       "      <th>match_awayteam_id</th>\n",
       "      <th>match_hometeam_id</th>\n",
       "      <th>match_id</th>\n",
       "      <th>epoch</th>\n",
       "      <th>match_status</th>\n",
       "      <th>match_live</th>\n",
       "      <th>match_hometeam_name</th>\n",
       "      <th>match_awayteam_name</th>\n",
       "      <th>match_hometeam_score</th>\n",
       "      <th>match_awayteam_score</th>\n",
       "      <th>match_hometeam_halftime_score</th>\n",
       "      <th>match_awayteam_halftime_score</th>\n",
       "      <th>match_hometeam_extra_score</th>\n",
       "      <th>match_awayteam_extra_score</th>\n",
       "      <th>match_hometeam_penalty_score</th>\n",
       "      <th>match_awayteam_penalty_score</th>\n",
       "      <th>league_id</th>\n",
       "    </tr>\n",
       "  </thead>\n",
       "  <tbody>\n",
       "    <tr>\n",
       "      <th>0</th>\n",
       "      <td>7109</td>\n",
       "      <td>7097</td>\n",
       "      <td>41196</td>\n",
       "      <td>1505559600</td>\n",
       "      <td>Finished</td>\n",
       "      <td>0</td>\n",
       "      <td>Levante</td>\n",
       "      <td>Valencia</td>\n",
       "      <td>1.0</td>\n",
       "      <td>1.0</td>\n",
       "      <td>1.0</td>\n",
       "      <td>1.0</td>\n",
       "      <td>1.0</td>\n",
       "      <td>1.0</td>\n",
       "      <td>NaN</td>\n",
       "      <td>NaN</td>\n",
       "      <td>468</td>\n",
       "    </tr>\n",
       "    <tr>\n",
       "      <th>1</th>\n",
       "      <td>2614</td>\n",
       "      <td>2619</td>\n",
       "      <td>13331</td>\n",
       "      <td>1505561400</td>\n",
       "      <td>Finished</td>\n",
       "      <td>0</td>\n",
       "      <td>Crystal Palace</td>\n",
       "      <td>Southampton</td>\n",
       "      <td>0.0</td>\n",
       "      <td>1.0</td>\n",
       "      <td>0.0</td>\n",
       "      <td>1.0</td>\n",
       "      <td>0.0</td>\n",
       "      <td>1.0</td>\n",
       "      <td>NaN</td>\n",
       "      <td>NaN</td>\n",
       "      <td>148</td>\n",
       "    </tr>\n",
       "    <tr>\n",
       "      <th>2</th>\n",
       "      <td>3224</td>\n",
       "      <td>3238</td>\n",
       "      <td>17683</td>\n",
       "      <td>1505568600</td>\n",
       "      <td>Finished</td>\n",
       "      <td>0</td>\n",
       "      <td>Eintracht Frankfurt</td>\n",
       "      <td>FC Augsburg</td>\n",
       "      <td>1.0</td>\n",
       "      <td>2.0</td>\n",
       "      <td>0.0</td>\n",
       "      <td>1.0</td>\n",
       "      <td>0.0</td>\n",
       "      <td>1.0</td>\n",
       "      <td>NaN</td>\n",
       "      <td>NaN</td>\n",
       "      <td>195</td>\n",
       "    </tr>\n",
       "  </tbody>\n",
       "</table>\n",
       "</div>"
      ],
      "text/plain": [
       "   match_awayteam_id  match_hometeam_id  match_id       epoch match_status  \\\n",
       "0               7109               7097     41196  1505559600     Finished   \n",
       "1               2614               2619     13331  1505561400     Finished   \n",
       "2               3224               3238     17683  1505568600     Finished   \n",
       "\n",
       "   match_live  match_hometeam_name match_awayteam_name  match_hometeam_score  \\\n",
       "0           0              Levante            Valencia                   1.0   \n",
       "1           0       Crystal Palace         Southampton                   0.0   \n",
       "2           0  Eintracht Frankfurt         FC Augsburg                   1.0   \n",
       "\n",
       "   match_awayteam_score  match_hometeam_halftime_score  \\\n",
       "0                   1.0                            1.0   \n",
       "1                   1.0                            0.0   \n",
       "2                   2.0                            0.0   \n",
       "\n",
       "   match_awayteam_halftime_score  match_hometeam_extra_score  \\\n",
       "0                            1.0                         1.0   \n",
       "1                            1.0                         0.0   \n",
       "2                            1.0                         0.0   \n",
       "\n",
       "   match_awayteam_extra_score  match_hometeam_penalty_score  \\\n",
       "0                         1.0                           NaN   \n",
       "1                         1.0                           NaN   \n",
       "2                         1.0                           NaN   \n",
       "\n",
       "   match_awayteam_penalty_score  league_id  \n",
       "0                           NaN        468  \n",
       "1                           NaN        148  \n",
       "2                           NaN        195  "
      ]
     },
     "execution_count": 8,
     "metadata": {},
     "output_type": "execute_result"
    }
   ],
   "source": [
    "matches.head(3)"
   ]
  },
  {
   "cell_type": "code",
   "execution_count": 9,
   "metadata": {
    "scrolled": true
   },
   "outputs": [
    {
     "data": {
      "text/html": [
       "<div>\n",
       "<style scoped>\n",
       "    .dataframe tbody tr th:only-of-type {\n",
       "        vertical-align: middle;\n",
       "    }\n",
       "\n",
       "    .dataframe tbody tr th {\n",
       "        vertical-align: top;\n",
       "    }\n",
       "\n",
       "    .dataframe thead th {\n",
       "        text-align: right;\n",
       "    }\n",
       "</style>\n",
       "<table border=\"1\" class=\"dataframe\">\n",
       "  <thead>\n",
       "    <tr style=\"text-align: right;\">\n",
       "      <th></th>\n",
       "      <th>match_id</th>\n",
       "      <th>home_BallPossession</th>\n",
       "      <th>home_CornerKicks</th>\n",
       "      <th>home_Fouls</th>\n",
       "      <th>home_GoalAttempts</th>\n",
       "      <th>home_GoalkeeperSaves</th>\n",
       "      <th>home_Offsides</th>\n",
       "      <th>home_ShotsoffGoal</th>\n",
       "      <th>home_ShotsonGoal</th>\n",
       "      <th>home_YellowCards</th>\n",
       "      <th>...</th>\n",
       "      <th>home_DistanceCovered(metres)</th>\n",
       "      <th>away_DistanceCovered(metres)</th>\n",
       "      <th>home_PassSuccess%</th>\n",
       "      <th>away_PassSuccess%</th>\n",
       "      <th>home_Attacks</th>\n",
       "      <th>home_DangerousAttacks</th>\n",
       "      <th>away_Attacks</th>\n",
       "      <th>away_DangerousAttacks</th>\n",
       "      <th>home_</th>\n",
       "      <th>away_</th>\n",
       "    </tr>\n",
       "  </thead>\n",
       "  <tbody>\n",
       "    <tr>\n",
       "      <th>0</th>\n",
       "      <td>13327</td>\n",
       "      <td>71%</td>\n",
       "      <td>12.0</td>\n",
       "      <td>7.0</td>\n",
       "      <td>35.0</td>\n",
       "      <td>3.0</td>\n",
       "      <td>1.0</td>\n",
       "      <td>14.0</td>\n",
       "      <td>9.0</td>\n",
       "      <td>1.0</td>\n",
       "      <td>...</td>\n",
       "      <td>NaN</td>\n",
       "      <td>NaN</td>\n",
       "      <td>NaN</td>\n",
       "      <td>NaN</td>\n",
       "      <td>NaN</td>\n",
       "      <td>NaN</td>\n",
       "      <td>NaN</td>\n",
       "      <td>NaN</td>\n",
       "      <td>NaN</td>\n",
       "      <td>NaN</td>\n",
       "    </tr>\n",
       "    <tr>\n",
       "      <th>1</th>\n",
       "      <td>13329</td>\n",
       "      <td>33%</td>\n",
       "      <td>3.0</td>\n",
       "      <td>8.0</td>\n",
       "      <td>7.0</td>\n",
       "      <td>4.0</td>\n",
       "      <td>2.0</td>\n",
       "      <td>5.0</td>\n",
       "      <td>1.0</td>\n",
       "      <td>2.0</td>\n",
       "      <td>...</td>\n",
       "      <td>NaN</td>\n",
       "      <td>NaN</td>\n",
       "      <td>NaN</td>\n",
       "      <td>NaN</td>\n",
       "      <td>NaN</td>\n",
       "      <td>NaN</td>\n",
       "      <td>NaN</td>\n",
       "      <td>NaN</td>\n",
       "      <td>NaN</td>\n",
       "      <td>NaN</td>\n",
       "    </tr>\n",
       "    <tr>\n",
       "      <th>2</th>\n",
       "      <td>13331</td>\n",
       "      <td>45%</td>\n",
       "      <td>5.0</td>\n",
       "      <td>14.0</td>\n",
       "      <td>14.0</td>\n",
       "      <td>3.0</td>\n",
       "      <td>0.0</td>\n",
       "      <td>9.0</td>\n",
       "      <td>3.0</td>\n",
       "      <td>5.0</td>\n",
       "      <td>...</td>\n",
       "      <td>NaN</td>\n",
       "      <td>NaN</td>\n",
       "      <td>NaN</td>\n",
       "      <td>NaN</td>\n",
       "      <td>NaN</td>\n",
       "      <td>NaN</td>\n",
       "      <td>NaN</td>\n",
       "      <td>NaN</td>\n",
       "      <td>NaN</td>\n",
       "      <td>NaN</td>\n",
       "    </tr>\n",
       "  </tbody>\n",
       "</table>\n",
       "<p>3 rows × 45 columns</p>\n",
       "</div>"
      ],
      "text/plain": [
       "   match_id home_BallPossession  home_CornerKicks  home_Fouls  \\\n",
       "0     13327                 71%              12.0         7.0   \n",
       "1     13329                 33%               3.0         8.0   \n",
       "2     13331                 45%               5.0        14.0   \n",
       "\n",
       "   home_GoalAttempts  home_GoalkeeperSaves  home_Offsides  home_ShotsoffGoal  \\\n",
       "0               35.0                   3.0            1.0               14.0   \n",
       "1                7.0                   4.0            2.0                5.0   \n",
       "2               14.0                   3.0            0.0                9.0   \n",
       "\n",
       "   home_ShotsonGoal  home_YellowCards  ... home_DistanceCovered(metres)  \\\n",
       "0               9.0               1.0  ...                          NaN   \n",
       "1               1.0               2.0  ...                          NaN   \n",
       "2               3.0               5.0  ...                          NaN   \n",
       "\n",
       "   away_DistanceCovered(metres)  home_PassSuccess%  away_PassSuccess%  \\\n",
       "0                           NaN                NaN                NaN   \n",
       "1                           NaN                NaN                NaN   \n",
       "2                           NaN                NaN                NaN   \n",
       "\n",
       "   home_Attacks  home_DangerousAttacks  away_Attacks  away_DangerousAttacks  \\\n",
       "0           NaN                    NaN           NaN                    NaN   \n",
       "1           NaN                    NaN           NaN                    NaN   \n",
       "2           NaN                    NaN           NaN                    NaN   \n",
       "\n",
       "   home_  away_  \n",
       "0    NaN    NaN  \n",
       "1    NaN    NaN  \n",
       "2    NaN    NaN  \n",
       "\n",
       "[3 rows x 45 columns]"
      ]
     },
     "execution_count": 9,
     "metadata": {},
     "output_type": "execute_result"
    }
   ],
   "source": [
    "stats.head(3)"
   ]
  },
  {
   "cell_type": "markdown",
   "metadata": {},
   "source": [
    "We formed feature list and then turned it to dataframe. "
   ]
  },
  {
   "cell_type": "code",
   "execution_count": 10,
   "metadata": {},
   "outputs": [],
   "source": [
    "feature_list = []\n",
    "for index, i in matches.iterrows():\n",
    "    feature_list.append([i.match_id, \n",
    "                         i.match_hometeam_id, \n",
    "                         avg_home_score(i.match_hometeam_id,5,i.epoch), avg_away_score(i.match_hometeam_id,5,i.epoch), \n",
    "                         avg_home_concede(i.match_hometeam_id,5,i.epoch), avg_away_concede(i.match_hometeam_id,5,i.epoch),\n",
    "                         i.match_awayteam_id, \n",
    "                         avg_home_score(i.match_awayteam_id,5,i.epoch), avg_away_score(i.match_awayteam_id,5,i.epoch),\n",
    "                         avg_home_concede(i.match_awayteam_id,5,i.epoch), avg_away_concede(i.match_awayteam_id,5,i.epoch),\n",
    "                         last_game_score(i.match_hometeam_id, i.match_awayteam_id, 3, i.epoch).sum(),\n",
    "                         i.match_hometeam_score + i.match_awayteam_score])"
   ]
  },
  {
   "cell_type": "code",
   "execution_count": 11,
   "metadata": {},
   "outputs": [],
   "source": [
    "feature_df = pd.DataFrame(feature_list, columns = ['match_id',\n",
    "                                                   'home_id',\n",
    "                                                   'hometeam_avg_home_score','hometeam_avg_away_score',\n",
    "                                                   'hometeam_avg_home_concede','hometeam_avg_away_concede',\n",
    "                                                   'away_id',\n",
    "                                                   'awayteam_avg_home_score','awayteam_avg_away_score',\n",
    "                                                   'awayteam_avg_home_concede','awayteam_avg_away_concede',\n",
    "                                                   'avg_score_between',\n",
    "                                                   'total_goals'])\n",
    "feature_df.dropna(inplace = True)\n",
    "feature_df.reset_index(inplace = True, drop = True)"
   ]
  },
  {
   "cell_type": "code",
   "execution_count": 12,
   "metadata": {},
   "outputs": [
    {
     "data": {
      "text/html": [
       "<div>\n",
       "<style scoped>\n",
       "    .dataframe tbody tr th:only-of-type {\n",
       "        vertical-align: middle;\n",
       "    }\n",
       "\n",
       "    .dataframe tbody tr th {\n",
       "        vertical-align: top;\n",
       "    }\n",
       "\n",
       "    .dataframe thead th {\n",
       "        text-align: right;\n",
       "    }\n",
       "</style>\n",
       "<table border=\"1\" class=\"dataframe\">\n",
       "  <thead>\n",
       "    <tr style=\"text-align: right;\">\n",
       "      <th></th>\n",
       "      <th>match_id</th>\n",
       "      <th>home_id</th>\n",
       "      <th>hometeam_avg_home_score</th>\n",
       "      <th>hometeam_avg_away_score</th>\n",
       "      <th>hometeam_avg_home_concede</th>\n",
       "      <th>hometeam_avg_away_concede</th>\n",
       "      <th>away_id</th>\n",
       "      <th>awayteam_avg_home_score</th>\n",
       "      <th>awayteam_avg_away_score</th>\n",
       "      <th>awayteam_avg_home_concede</th>\n",
       "      <th>awayteam_avg_away_concede</th>\n",
       "      <th>avg_score_between</th>\n",
       "      <th>total_goals</th>\n",
       "    </tr>\n",
       "  </thead>\n",
       "  <tbody>\n",
       "    <tr>\n",
       "      <th>5310</th>\n",
       "      <td>242326</td>\n",
       "      <td>2645</td>\n",
       "      <td>1.8</td>\n",
       "      <td>1.2</td>\n",
       "      <td>2.2</td>\n",
       "      <td>2.0</td>\n",
       "      <td>2634</td>\n",
       "      <td>1.0</td>\n",
       "      <td>1.2</td>\n",
       "      <td>0.6</td>\n",
       "      <td>1.0</td>\n",
       "      <td>3.000000</td>\n",
       "      <td>4.0</td>\n",
       "    </tr>\n",
       "    <tr>\n",
       "      <th>5311</th>\n",
       "      <td>242324</td>\n",
       "      <td>2633</td>\n",
       "      <td>1.4</td>\n",
       "      <td>2.0</td>\n",
       "      <td>1.2</td>\n",
       "      <td>1.2</td>\n",
       "      <td>2643</td>\n",
       "      <td>3.0</td>\n",
       "      <td>0.6</td>\n",
       "      <td>1.6</td>\n",
       "      <td>0.6</td>\n",
       "      <td>2.666667</td>\n",
       "      <td>4.0</td>\n",
       "    </tr>\n",
       "    <tr>\n",
       "      <th>5312</th>\n",
       "      <td>242323</td>\n",
       "      <td>2680</td>\n",
       "      <td>1.8</td>\n",
       "      <td>1.4</td>\n",
       "      <td>1.6</td>\n",
       "      <td>2.2</td>\n",
       "      <td>2644</td>\n",
       "      <td>1.0</td>\n",
       "      <td>2.4</td>\n",
       "      <td>0.8</td>\n",
       "      <td>0.6</td>\n",
       "      <td>4.000000</td>\n",
       "      <td>1.0</td>\n",
       "    </tr>\n",
       "    <tr>\n",
       "      <th>5313</th>\n",
       "      <td>242325</td>\n",
       "      <td>2648</td>\n",
       "      <td>0.8</td>\n",
       "      <td>0.6</td>\n",
       "      <td>1.6</td>\n",
       "      <td>1.4</td>\n",
       "      <td>2652</td>\n",
       "      <td>1.6</td>\n",
       "      <td>1.2</td>\n",
       "      <td>2.4</td>\n",
       "      <td>2.6</td>\n",
       "      <td>4.000000</td>\n",
       "      <td>1.0</td>\n",
       "    </tr>\n",
       "    <tr>\n",
       "      <th>5314</th>\n",
       "      <td>242328</td>\n",
       "      <td>2625</td>\n",
       "      <td>2.8</td>\n",
       "      <td>1.2</td>\n",
       "      <td>1.8</td>\n",
       "      <td>0.2</td>\n",
       "      <td>2650</td>\n",
       "      <td>1.0</td>\n",
       "      <td>1.4</td>\n",
       "      <td>0.6</td>\n",
       "      <td>1.8</td>\n",
       "      <td>5.500000</td>\n",
       "      <td>5.0</td>\n",
       "    </tr>\n",
       "  </tbody>\n",
       "</table>\n",
       "</div>"
      ],
      "text/plain": [
       "      match_id  home_id  hometeam_avg_home_score  hometeam_avg_away_score  \\\n",
       "5310    242326     2645                      1.8                      1.2   \n",
       "5311    242324     2633                      1.4                      2.0   \n",
       "5312    242323     2680                      1.8                      1.4   \n",
       "5313    242325     2648                      0.8                      0.6   \n",
       "5314    242328     2625                      2.8                      1.2   \n",
       "\n",
       "      hometeam_avg_home_concede  hometeam_avg_away_concede  away_id  \\\n",
       "5310                        2.2                        2.0     2634   \n",
       "5311                        1.2                        1.2     2643   \n",
       "5312                        1.6                        2.2     2644   \n",
       "5313                        1.6                        1.4     2652   \n",
       "5314                        1.8                        0.2     2650   \n",
       "\n",
       "      awayteam_avg_home_score  awayteam_avg_away_score  \\\n",
       "5310                      1.0                      1.2   \n",
       "5311                      3.0                      0.6   \n",
       "5312                      1.0                      2.4   \n",
       "5313                      1.6                      1.2   \n",
       "5314                      1.0                      1.4   \n",
       "\n",
       "      awayteam_avg_home_concede  awayteam_avg_away_concede  avg_score_between  \\\n",
       "5310                        0.6                        1.0           3.000000   \n",
       "5311                        1.6                        0.6           2.666667   \n",
       "5312                        0.8                        0.6           4.000000   \n",
       "5313                        2.4                        2.6           4.000000   \n",
       "5314                        0.6                        1.8           5.500000   \n",
       "\n",
       "      total_goals  \n",
       "5310          4.0  \n",
       "5311          4.0  \n",
       "5312          1.0  \n",
       "5313          1.0  \n",
       "5314          5.0  "
      ]
     },
     "execution_count": 12,
     "metadata": {},
     "output_type": "execute_result"
    }
   ],
   "source": [
    "feature_df.tail()"
   ]
  },
  {
   "cell_type": "markdown",
   "metadata": {},
   "source": [
    "Since we will use xgboost library for stochastic gradient boosting, we turned the features and labels to dmatrix."
   ]
  },
  {
   "cell_type": "code",
   "execution_count": 94,
   "metadata": {},
   "outputs": [],
   "source": [
    "feature_columns = ['hometeam_avg_home_score','hometeam_avg_away_score',\n",
    "                   'hometeam_avg_home_concede','hometeam_avg_away_concede',\n",
    "                   'awayteam_avg_home_score','awayteam_avg_away_score',\n",
    "                   'awayteam_avg_home_concede','awayteam_avg_away_concede',\n",
    "                   'avg_score_between']\n",
    "\n",
    "X_train, X_test, y_train, y_test = train_test_split(feature_df[feature_columns], feature_df['total_goals'])\n",
    "\n",
    "feature_dmatrix = xgboost.DMatrix(data = np.array(X_train), label = np.array(y_train), feature_names = feature_columns)\n",
    "test_dmatrix = xgboost.DMatrix(data = np.array(X_test), label = np.array(y_test), feature_names = feature_columns)"
   ]
  },
  {
   "cell_type": "markdown",
   "metadata": {},
   "source": [
    "Then, we are creating regressor and classifier of xgboost library."
   ]
  },
  {
   "cell_type": "code",
   "execution_count": 14,
   "metadata": {},
   "outputs": [],
   "source": [
    "sgb_regressor = xgboost.XGBRegressor(min_child_weight=10)\n",
    "sgb_classifier = xgboost.XGBClassifier(min_child_weight=10)"
   ]
  },
  {
   "cell_type": "markdown",
   "metadata": {},
   "source": [
    "We created combinations of parameters to find the best parameter set for each model."
   ]
  },
  {
   "cell_type": "code",
   "execution_count": 59,
   "metadata": {},
   "outputs": [],
   "source": [
    "param_grid_sgb = dict(max_depth = [2,3,5,7,10],\n",
    "                  learning_rate = [0.1, 0.2, 0.5, 0.7],\n",
    "                  n_estimators = [10,30,50,100,200])\n",
    "param_grid_tree = dict(ccp_alpha = [0.001, 0.002, 0.003, 0.004], \n",
    "                       min_samples_leaf = [2,3,5,7,10])\n",
    "param_grid_rf = dict(n_estimators = [500],\n",
    "                     min_samples_leaf = [5],\n",
    "                     max_features = [2,3,4,5])"
   ]
  },
  {
   "cell_type": "markdown",
   "metadata": {},
   "source": [
    "Kfold object is created."
   ]
  },
  {
   "cell_type": "code",
   "execution_count": 16,
   "metadata": {},
   "outputs": [],
   "source": [
    "kfold = KFold(n_splits = 10, shuffle = True, random_state = 42)"
   ]
  },
  {
   "cell_type": "markdown",
   "metadata": {},
   "source": [
    "Grid search model is composed with a kfold object, a parameter grid object and a regressor or a classifier. "
   ]
  },
  {
   "cell_type": "code",
   "execution_count": 17,
   "metadata": {},
   "outputs": [],
   "source": [
    "grid_search = GridSearchCV(sgb_regressor, param_grid_sgb, cv = kfold )\n",
    "grid_search_clf = GridSearchCV(sgb_classifier, param_grid_sgb, cv = kfold)"
   ]
  },
  {
   "cell_type": "markdown",
   "metadata": {},
   "source": [
    "Models are trained."
   ]
  },
  {
   "cell_type": "code",
   "execution_count": null,
   "metadata": {},
   "outputs": [],
   "source": [
    "results_sgb_reg = grid_search.fit(np.array(X_train), np.array(y_train))\n",
    "results_sgb_clf = grid_search_clf.fit(np.array(X_train), np.array((y_train > 2.5).astype('int')))"
   ]
  },
  {
   "cell_type": "markdown",
   "metadata": {},
   "source": [
    "LassoCV model of sklearn library tries alpha values on its own and gives the best estimate. "
   ]
  },
  {
   "cell_type": "code",
   "execution_count": 81,
   "metadata": {},
   "outputs": [],
   "source": [
    "lasso_reg = LassoCV(cv = kfold)\n",
    "lasso_reg = lasso_reg.fit(np.array(X_train), np.array(y_train))"
   ]
  },
  {
   "cell_type": "markdown",
   "metadata": {},
   "source": [
    "Classifiers and regressors of both tree and randomforest are defined."
   ]
  },
  {
   "cell_type": "code",
   "execution_count": 24,
   "metadata": {},
   "outputs": [],
   "source": [
    "tree_clf = DecisionTreeClassifier()\n",
    "tree_reg = DecisionTreeRegressor()\n",
    "\n",
    "rf_clf = RandomForestClassifier()\n",
    "rf_reg = RandomForestRegressor()"
   ]
  },
  {
   "cell_type": "markdown",
   "metadata": {},
   "source": [
    "Grid search object are created."
   ]
  },
  {
   "cell_type": "code",
   "execution_count": 60,
   "metadata": {},
   "outputs": [],
   "source": [
    "grid_search_tree_clf = GridSearchCV(tree_clf, param_grid_tree, cv = kfold )\n",
    "grid_search_tree_reg = GridSearchCV(tree_reg, param_grid_tree, cv = kfold)\n",
    "\n",
    "grid_search_rf_clf = GridSearchCV(rf_clf, param_grid_rf, cv = kfold )\n",
    "grid_search_rf_reg = GridSearchCV(rf_reg, param_grid_rf, cv = kfold)"
   ]
  },
  {
   "cell_type": "markdown",
   "metadata": {},
   "source": [
    "Models are trained and best parameters are found. "
   ]
  },
  {
   "cell_type": "code",
   "execution_count": null,
   "metadata": {},
   "outputs": [],
   "source": [
    "results_tree_reg = grid_search_tree_reg.fit(np.array(X_train), np.array(y_train))\n",
    "results_tree_clf = grid_search_tree_clf.fit(np.array(X_train), np.array(y_train > 2.5).astype('int')))\n",
    "\n",
    "results_rf_reg = grid_search_rf_reg.fit(np.array(X_train), np.array(y_train))\n",
    "results_rf_clf = grid_search_rf_clf.fit(np.array(X_train), np.array((y_train > 2.5).astype('int')))"
   ]
  },
  {
   "cell_type": "markdown",
   "metadata": {},
   "source": [
    "Below shows the best parameters for 4 models"
   ]
  },
  {
   "cell_type": "code",
   "execution_count": 82,
   "metadata": {},
   "outputs": [
    {
     "data": {
      "text/plain": [
       "{'ccp_alpha': 0.001, 'min_samples_leaf': 2}"
      ]
     },
     "execution_count": 82,
     "metadata": {},
     "output_type": "execute_result"
    }
   ],
   "source": [
    "results_tree_clf.best_params_"
   ]
  },
  {
   "cell_type": "code",
   "execution_count": 106,
   "metadata": {},
   "outputs": [
    {
     "data": {
      "text/plain": [
       "{'max_features': 4, 'min_samples_leaf': 5, 'n_estimators': 500}"
      ]
     },
     "execution_count": 106,
     "metadata": {},
     "output_type": "execute_result"
    }
   ],
   "source": [
    "results_rf_clf.best_params_"
   ]
  },
  {
   "cell_type": "code",
   "execution_count": 84,
   "metadata": {},
   "outputs": [
    {
     "data": {
      "text/plain": [
       "{'learning_rate': 0.1, 'max_depth': 2, 'n_estimators': 50}"
      ]
     },
     "execution_count": 84,
     "metadata": {},
     "output_type": "execute_result"
    }
   ],
   "source": [
    "results_sgb_clf.best_params_"
   ]
  },
  {
   "cell_type": "code",
   "execution_count": 85,
   "metadata": {},
   "outputs": [
    {
     "data": {
      "text/plain": [
       "{'ccp_alpha': 0.004, 'min_samples_leaf': 10}"
      ]
     },
     "execution_count": 85,
     "metadata": {},
     "output_type": "execute_result"
    }
   ],
   "source": [
    "results_tree_reg.best_params_"
   ]
  },
  {
   "cell_type": "code",
   "execution_count": 86,
   "metadata": {},
   "outputs": [
    {
     "data": {
      "text/plain": [
       "{'max_features': 2, 'min_samples_leaf': 5, 'n_estimators': 500}"
      ]
     },
     "execution_count": 86,
     "metadata": {},
     "output_type": "execute_result"
    }
   ],
   "source": [
    "results_rf_reg.best_params_"
   ]
  },
  {
   "cell_type": "code",
   "execution_count": 87,
   "metadata": {},
   "outputs": [
    {
     "data": {
      "text/plain": [
       "{'learning_rate': 0.2, 'max_depth': 2, 'n_estimators': 30}"
      ]
     },
     "execution_count": 87,
     "metadata": {},
     "output_type": "execute_result"
    }
   ],
   "source": [
    "results_sgb_reg.best_params_"
   ]
  },
  {
   "cell_type": "code",
   "execution_count": 89,
   "metadata": {},
   "outputs": [
    {
     "data": {
      "text/plain": [
       "0.00017487286368655922"
      ]
     },
     "execution_count": 89,
     "metadata": {},
     "output_type": "execute_result"
    }
   ],
   "source": [
    "lasso_reg.alpha_"
   ]
  },
  {
   "cell_type": "code",
   "execution_count": 103,
   "metadata": {},
   "outputs": [
    {
     "name": "stdout",
     "output_type": "stream",
     "text": [
      "0.5914221218961625\n",
      "0.5546983035478142\n"
     ]
    }
   ],
   "source": [
    "print(accuracy_score(results_sgb_clf.best_estimator_.predict(np.array(X_test)), (y_test > 2.5).astype('int')))\n",
    "print(results_sgb_clf.best_score_)"
   ]
  },
  {
   "cell_type": "code",
   "execution_count": 104,
   "metadata": {},
   "outputs": [
    {
     "name": "stdout",
     "output_type": "stream",
     "text": [
      "0.9661399548532731\n",
      "0.5554040468402645\n"
     ]
    }
   ],
   "source": [
    "print(accuracy_score(results_rf_clf.best_estimator_.predict(np.array(X_test)), (y_test > 2.5).astype('int')))\n",
    "print(results_rf_clf.best_score_)"
   ]
  },
  {
   "cell_type": "code",
   "execution_count": 105,
   "metadata": {},
   "outputs": [
    {
     "name": "stdout",
     "output_type": "stream",
     "text": [
      "0.5658389766741911\n",
      "0.5537179813941634\n"
     ]
    }
   ],
   "source": [
    "print(accuracy_score(results_tree_clf.best_estimator_.predict(np.array(X_test)), (y_test > 2.5).astype('int')))\n",
    "print(results_tree_clf.best_score_)"
   ]
  },
  {
   "cell_type": "code",
   "execution_count": 114,
   "metadata": {},
   "outputs": [
    {
     "name": "stdout",
     "output_type": "stream",
     "text": [
      "-0.02224615724078099\n",
      "0.02407666014643871\n"
     ]
    }
   ],
   "source": [
    "print(r2_score(results_sgb_reg.best_estimator_.predict(np.array(X_test)), y_test) / len(y_test))\n",
    "print(results_sgb_reg.best_score_)"
   ]
  },
  {
   "cell_type": "code",
   "execution_count": 115,
   "metadata": {},
   "outputs": [
    {
     "name": "stdout",
     "output_type": "stream",
     "text": [
      "-0.0047822305363527185\n",
      "0.01445504580432574\n"
     ]
    }
   ],
   "source": [
    "print(r2_score(results_rf_reg.best_estimator_.predict(np.array(X_test)), y_test) / len(y_test))\n",
    "print(results_rf_reg.best_score_)"
   ]
  },
  {
   "cell_type": "code",
   "execution_count": 116,
   "metadata": {},
   "outputs": [
    {
     "name": "stdout",
     "output_type": "stream",
     "text": [
      "-0.014070245859383754\n",
      "-0.015498281547532022\n"
     ]
    }
   ],
   "source": [
    "print(r2_score(results_tree_reg.best_estimator_.predict(np.array(X_test)), y_test) / len(y_test))\n",
    "print(results_tree_reg.best_score_)"
   ]
  },
  {
   "cell_type": "code",
   "execution_count": 118,
   "metadata": {},
   "outputs": [
    {
     "name": "stdout",
     "output_type": "stream",
     "text": [
      "-0.021904986625712476\n",
      "-0.015498281547532022\n"
     ]
    }
   ],
   "source": [
    "print(r2_score(lasso_reg.predict(np.array(X_test)), y_test) / len(y_test))\n",
    "print(results_tree_reg.best_score_)"
   ]
  },
  {
   "cell_type": "markdown",
   "metadata": {},
   "source": [
    "Except for random forest classifier, others have similar cross validation and test score values. However it doesn't mean that classifiers are good at estimation in regression, we can say it by looking their r2 scores and accuracy scores.\n",
    "Similar error values and bad accuracy results shows that features are not good at prediction labels. For random forest case, cross validation and test accuracy differs because of overfitting. "
   ]
  },
  {
   "cell_type": "markdown",
   "metadata": {},
   "source": [
    "Lasso regression has the smallest alpha possible because as there are very few features with low predictive capabilities, the model can't discard any of them"
   ]
  }
 ],
 "metadata": {
  "kernelspec": {
   "display_name": "Python 3",
   "language": "python",
   "name": "python3"
  },
  "language_info": {
   "codemirror_mode": {
    "name": "ipython",
    "version": 3
   },
   "file_extension": ".py",
   "mimetype": "text/x-python",
   "name": "python",
   "nbconvert_exporter": "python",
   "pygments_lexer": "ipython3",
   "version": "3.7.3"
  }
 },
 "nbformat": 4,
 "nbformat_minor": 2
}
