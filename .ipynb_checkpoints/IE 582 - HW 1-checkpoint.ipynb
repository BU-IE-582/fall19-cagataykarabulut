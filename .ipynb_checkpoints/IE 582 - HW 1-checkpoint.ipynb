{
 "cells": [
  {
   "cell_type": "code",
   "execution_count": 39,
   "metadata": {},
   "outputs": [],
   "source": [
    "import numpy as np\n",
    "import pandas as pd\n",
    "from matplotlib import pyplot as plt\n",
    "%matplotlib inline"
   ]
  },
  {
   "cell_type": "code",
   "execution_count": 8,
   "metadata": {},
   "outputs": [],
   "source": [
    "bets = pd.DataFrame(pd.read_csv(\"bets/bets.csv\"))\n",
    "booking = pd.DataFrame(pd.read_csv(\"booking/booking.csv\"))\n",
    "goals = pd.DataFrame(pd.read_csv(\"goals/goals.csv\"))\n",
    "matches = pd.DataFrame(pd.read_csv(\"matches/matches.csv\"))\n",
    "stats = pd.DataFrame(pd.read_csv(\"stats/stats.csv\"))"
   ]
  },
  {
   "cell_type": "code",
   "execution_count": 41,
   "metadata": {},
   "outputs": [
    {
     "data": {
      "text/plain": [
       "5074"
      ]
     },
     "execution_count": 41,
     "metadata": {},
     "output_type": "execute_result"
    }
   ],
   "source": [
    "matches.match_hometeam_score.dropna().count()\n",
    "matches.match_awayteam_score.dropna().count()"
   ]
  },
  {
   "cell_type": "code",
   "execution_count": 50,
   "metadata": {},
   "outputs": [],
   "source": [
    "home_mean_score = matches.match_hometeam_score.mean()\n",
    "away_mean_score = matches.match_awayteam_score.mean()\n",
    "score_difference_mean = home_mean_score - away_mean_score"
   ]
  },
  {
   "cell_type": "code",
   "execution_count": 49,
   "metadata": {},
   "outputs": [
    {
     "data": {
      "text/plain": [
       "(array([ 977., 1665., 1363.,  687.,  257.,   98.,   20.,    7.]),\n",
       " array([-0.5,  0.5,  1.5,  2.5,  3.5,  4.5,  5.5,  6.5,  7.5]),\n",
       " <a list of 8 Patch objects>)"
      ]
     },
     "execution_count": 49,
     "metadata": {},
     "output_type": "execute_result"
    },
    {
     "data": {
      "image/png": "[encoded data removed]",
      "text/plain": [
       "<Figure size 432x288 with 1 Axes>"
      ]
     },
     "metadata": {},
     "output_type": "display_data"
    }
   ],
   "source": [
    "plt.hist(matches.match_hometeam_score.dropna().astype('int'), bins = [i-0.5 for i in range(0,9)], fc = (1,0,0,0.5))\n",
    "plt.hist(np.random.poisson(home_mean_score, 5074), bins = [i-0.5 for i in range(0,9)], fc = (0,0,1,0.5))"
   ]
  },
  {
   "cell_type": "code",
   "execution_count": 48,
   "metadata": {
    "scrolled": true
   },
   "outputs": [
    {
     "data": {
      "text/plain": [
       "(array([1462., 1854., 1108.,  474.,  131.,   35.,    8.,    2.]),\n",
       " array([-0.5,  0.5,  1.5,  2.5,  3.5,  4.5,  5.5,  6.5,  7.5]),\n",
       " <a list of 8 Patch objects>)"
      ]
     },
     "execution_count": 48,
     "metadata": {},
     "output_type": "execute_result"
    },
    {
     "data": {
      "image/png": "[encoded data removed]",
      "text/plain": [
       "<Figure size 432x288 with 1 Axes>"
      ]
     },
     "metadata": {},
     "output_type": "display_data"
    }
   ],
   "source": [
    "pyplot.hist(matches.match_awayteam_score.dropna().astype('int'), bins = [i-0.5 for i in range(0,9)], fc = (1,0,0,0.5))\n",
    "plt.hist(np.random.poisson(away_mean_score, 5074), bins = [i-0.5 for i in range(0,9)], fc = (0,0,1,0.5))"
   ]
  },
  {
   "cell_type": "code",
   "execution_count": null,
   "metadata": {},
   "outputs": [],
   "source": []
  },
  {
   "cell_type": "code",
   "execution_count": null,
   "metadata": {},
   "outputs": [],
   "source": []
  }
 ],
 "metadata": {
  "kernelspec": {
   "display_name": "Python 3",
   "language": "python",
   "name": "python3"
  },
  "language_info": {
   "codemirror_mode": {
    "name": "ipython",
    "version": 3
   },
   "file_extension": ".py",
   "mimetype": "text/x-python",
   "name": "python",
   "nbconvert_exporter": "python",
   "pygments_lexer": "ipython3",
   "version": "3.6.5"
  }
 },
 "nbformat": 4,
 "nbformat_minor": 2
}
